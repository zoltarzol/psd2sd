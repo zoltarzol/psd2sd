{
 "cells": [
  {
   "cell_type": "code",
   "execution_count": null,
   "metadata": {},
   "outputs": [],
   "source": [
    "import os, time, random, PIL\n",
    "import webuiapi\n",
    "from IPython.display import clear_output\n",
    "from psd_tools import PSDImage\n",
    "\n",
    "api = webuiapi.WebUIApi(sampler='Euler a', steps=20)\n",
    "\n",
    "file_base = \"base.psd\"\n",
    "file_prompt = \"prompt.txt\"\n",
    "file_nprompt = \"nprompt.txt\"\n",
    "\n",
    "f_base_new = 0\n",
    "f_prompt_new = 0\n",
    "f_nprompt_new = 0\n",
    "\n",
    "while True:\n",
    "    f_base = os.path.getmtime(file_base)\n",
    "    f_prompt = os.path.getmtime(file_prompt)\n",
    "    f_nprompt = os.path.getmtime(file_nprompt)\n",
    "\n",
    "    if f_base == f_base_new and f_prompt==f_prompt_new and f_nprompt==f_nprompt_new:\n",
    "        time.sleep(1)\n",
    "    else:\n",
    "        f_base_new = f_base\n",
    "        f_prompt_new = f_prompt\n",
    "        f_nprompt_new = f_nprompt\n",
    "        prompt_txt = Path(file_prompt).read_text()\n",
    "        nprompt_txt = Path(file_nprompt).read_text()\n",
    "        \n",
    "        psd_file = PSDImage.open(file_base)\n",
    "        psd_image = psd_file.composite()\n",
    "        result = api.img2img(\n",
    "            images=[psd_image],\n",
    "            prompt=prompt_txt,\n",
    "            negative_prompt=nprompt_txt,\n",
    "            sampler_name='DPM++ 2M Karras',\n",
    "            steps=30,\n",
    "            seed=random.randint(1,99999999), \n",
    "            cfg_scale=7, \n",
    "            width=512,\n",
    "            height=768,\n",
    "            denoising_strength=0.65)\n",
    "        clear_output(wait=True)\n",
    "        display(result.image)\n",
    "        result.image.save('gen_' + str(time.time()) + '.png', \"PNG\")"
   ]
  }
 ],
 "metadata": {
  "kernelspec": {
   "display_name": "sdpsd",
   "language": "python",
   "name": "python3"
  },
  "language_info": {
   "name": "python",
   "version": "3.9.12"
  },
  "orig_nbformat": 4
 },
 "nbformat": 4,
 "nbformat_minor": 2
}
